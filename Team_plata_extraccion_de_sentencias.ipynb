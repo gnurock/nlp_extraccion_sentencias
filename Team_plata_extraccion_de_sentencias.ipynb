{
  "nbformat": 4,
  "nbformat_minor": 0,
  "metadata": {
    "anaconda-cloud": {},
    "kernelspec": {
      "display_name": "Python [conda root]",
      "language": "python",
      "name": "conda-root-py"
    },
    "language_info": {
      "codemirror_mode": {
        "name": "ipython",
        "version": 3
      },
      "file_extension": ".py",
      "mimetype": "text/x-python",
      "name": "python",
      "nbconvert_exporter": "python",
      "pygments_lexer": "ipython3",
      "version": "3.5.2"
    },
    "colab": {
      "name": "Team_plata: extraccion de sentencias.ipynb",
      "provenance": [],
      "collapsed_sections": [],
      "include_colab_link": true
    }
  },
  "cells": [
    {
      "cell_type": "markdown",
      "metadata": {
        "id": "view-in-github",
        "colab_type": "text"
      },
      "source": [
        "<a href=\"https://colab.research.google.com/github/gnurock/nlp_extraccion_sentencias/blob/main/Team_plata_extraccion_de_sentencias.ipynb\" target=\"_parent\"><img src=\"https://colab.research.google.com/assets/colab-badge.svg\" alt=\"Open In Colab\"/></a>"
      ]
    },
    {
      "cell_type": "markdown",
      "metadata": {
        "id": "HNnLovGoRiPB"
      },
      "source": [
        ""
      ]
    },
    {
      "cell_type": "markdown",
      "metadata": {
        "id": "C7aclqR8XzIK"
      },
      "source": [
        ""
      ]
    },
    {
      "cell_type": "code",
      "metadata": {
        "id": "Ud-7xBlAsXWq"
      },
      "source": [
        ""
      ],
      "execution_count": 6,
      "outputs": []
    },
    {
      "cell_type": "code",
      "metadata": {
        "id": "U8TTuHUn9-F4"
      },
      "source": [
        ""
      ],
      "execution_count": 7,
      "outputs": []
    },
    {
      "cell_type": "code",
      "metadata": {
        "id": "CqKDugRVkxV-",
        "outputId": "8d6c2e69-0a39-42ab-99fa-4147a737f061",
        "colab": {
          "base_uri": "https://localhost:8080/"
        }
      },
      "source": [
        "import os\n",
        "import nltk\n",
        "from nltk.tokenize import word_tokenize\n",
        "from nltk.corpus import stopwords, wordnet\n",
        "from nltk.stem import WordNetLemmatizer\n",
        "nltk.download('punkt')\n",
        "nltk.download('wordnet')\n",
        "nltk.download('stopwords')\n",
        "import nltk.data   \n",
        "spanish_tokenizer = nltk.data.load('tokenizers/punkt/PY3/spanish.pickle')\n",
        "from nltk.corpus import stopwords\n",
        "import string \n",
        "from collections import Counter\n",
        "from _collections import OrderedDict\n",
        "stop_words= set (stopwords.words('spanish'))"
      ],
      "execution_count": 46,
      "outputs": [
        {
          "output_type": "stream",
          "text": [
            "[nltk_data] Downloading package punkt to /root/nltk_data...\n",
            "[nltk_data]   Package punkt is already up-to-date!\n",
            "[nltk_data] Downloading package wordnet to /root/nltk_data...\n",
            "[nltk_data]   Package wordnet is already up-to-date!\n",
            "[nltk_data] Downloading package stopwords to /root/nltk_data...\n",
            "[nltk_data]   Package stopwords is already up-to-date!\n"
          ],
          "name": "stdout"
        }
      ]
    },
    {
      "cell_type": "code",
      "metadata": {
        "id": "60sP_q2OqGNi",
        "outputId": "8b9176d2-9abe-47e4-f2ee-17917106af71",
        "colab": {
          "base_uri": "https://localhost:8080/"
        }
      },
      "source": [
        "procesa_setencias()"
      ],
      "execution_count": 65,
      "outputs": [
        {
          "output_type": "stream",
          "text": [
            "/content/drive/My Drive/Colab Notebooks/saturday ia/justicia abierta/0 versiones finales/ /content/drive/My Drive/Colab Notebooks/saturday ia/justicia abierta/salida_doc2text/ /content/drive/My Drive/Colab Notebooks/saturday ia/justicia abierta/archivos_limpios/\n",
            "/content/drive/My Drive/Colab Notebooks/saturday ia/justicia abierta/salida_doc2text/014.txt\n",
            "/content/drive/My Drive/Colab Notebooks/saturday ia/justicia abierta/salida_doc2text/027.txt\n",
            "/content/drive/My Drive/Colab Notebooks/saturday ia/justicia abierta/salida_doc2text/028.txt\n",
            "/content/drive/My Drive/Colab Notebooks/saturday ia/justicia abierta/salida_doc2text/006.txt\n",
            "/content/drive/My Drive/Colab Notebooks/saturday ia/justicia abierta/salida_doc2text/004.txt\n",
            "/content/drive/My Drive/Colab Notebooks/saturday ia/justicia abierta/salida_doc2text/015.txt\n",
            "/content/drive/My Drive/Colab Notebooks/saturday ia/justicia abierta/salida_doc2text/022.txt\n",
            "/content/drive/My Drive/Colab Notebooks/saturday ia/justicia abierta/salida_doc2text/012.txt\n",
            "/content/drive/My Drive/Colab Notebooks/saturday ia/justicia abierta/salida_doc2text/026.txt\n",
            "/content/drive/My Drive/Colab Notebooks/saturday ia/justicia abierta/salida_doc2text/007.txt\n",
            "/content/drive/My Drive/Colab Notebooks/saturday ia/justicia abierta/salida_doc2text/024.txt\n",
            "/content/drive/My Drive/Colab Notebooks/saturday ia/justicia abierta/salida_doc2text/042.txt\n",
            "/content/drive/My Drive/Colab Notebooks/saturday ia/justicia abierta/salida_doc2text/001.txt\n",
            "/content/drive/My Drive/Colab Notebooks/saturday ia/justicia abierta/salida_doc2text/032.txt\n",
            "/content/drive/My Drive/Colab Notebooks/saturday ia/justicia abierta/salida_doc2text/034.txt\n",
            "/content/drive/My Drive/Colab Notebooks/saturday ia/justicia abierta/salida_doc2text/031.txt\n",
            "/content/drive/My Drive/Colab Notebooks/saturday ia/justicia abierta/salida_doc2text/040.txt\n",
            "/content/drive/My Drive/Colab Notebooks/saturday ia/justicia abierta/salida_doc2text/074.txt\n",
            "/content/drive/My Drive/Colab Notebooks/saturday ia/justicia abierta/salida_doc2text/036.txt\n",
            "/content/drive/My Drive/Colab Notebooks/saturday ia/justicia abierta/salida_doc2text/054.txt\n",
            "/content/drive/My Drive/Colab Notebooks/saturday ia/justicia abierta/salida_doc2text/086.txt\n",
            "/content/drive/My Drive/Colab Notebooks/saturday ia/justicia abierta/salida_doc2text/009.txt\n",
            "/content/drive/My Drive/Colab Notebooks/saturday ia/justicia abierta/salida_doc2text/033.txt\n",
            "/content/drive/My Drive/Colab Notebooks/saturday ia/justicia abierta/salida_doc2text/043.txt\n",
            "/content/drive/My Drive/Colab Notebooks/saturday ia/justicia abierta/salida_doc2text/044.txt\n",
            "/content/drive/My Drive/Colab Notebooks/saturday ia/justicia abierta/salida_doc2text/049.txt\n",
            "/content/drive/My Drive/Colab Notebooks/saturday ia/justicia abierta/salida_doc2text/053.txt\n",
            "/content/drive/My Drive/Colab Notebooks/saturday ia/justicia abierta/salida_doc2text/052.txt\n",
            "/content/drive/My Drive/Colab Notebooks/saturday ia/justicia abierta/salida_doc2text/081.txt\n",
            "/content/drive/My Drive/Colab Notebooks/saturday ia/justicia abierta/salida_doc2text/058.txt\n",
            "/content/drive/My Drive/Colab Notebooks/saturday ia/justicia abierta/salida_doc2text/092.txt\n",
            "/content/drive/My Drive/Colab Notebooks/saturday ia/justicia abierta/salida_doc2text/056.txt\n",
            "/content/drive/My Drive/Colab Notebooks/saturday ia/justicia abierta/salida_doc2text/070.txt\n",
            "/content/drive/My Drive/Colab Notebooks/saturday ia/justicia abierta/salida_doc2text/072.txt\n",
            "/content/drive/My Drive/Colab Notebooks/saturday ia/justicia abierta/salida_doc2text/011.txt\n",
            "/content/drive/My Drive/Colab Notebooks/saturday ia/justicia abierta/salida_doc2text/079.txt\n",
            "/content/drive/My Drive/Colab Notebooks/saturday ia/justicia abierta/salida_doc2text/038.txt\n",
            "/content/drive/My Drive/Colab Notebooks/saturday ia/justicia abierta/salida_doc2text/094.txt\n",
            "/content/drive/My Drive/Colab Notebooks/saturday ia/justicia abierta/salida_doc2text/062.txt\n",
            "/content/drive/My Drive/Colab Notebooks/saturday ia/justicia abierta/salida_doc2text/084.txt\n",
            "/content/drive/My Drive/Colab Notebooks/saturday ia/justicia abierta/salida_doc2text/003.txt\n",
            "/content/drive/My Drive/Colab Notebooks/saturday ia/justicia abierta/salida_doc2text/090.txt\n",
            "/content/drive/My Drive/Colab Notebooks/saturday ia/justicia abierta/salida_doc2text/088.txt\n",
            "/content/drive/My Drive/Colab Notebooks/saturday ia/justicia abierta/salida_doc2text/096.txt\n",
            "/content/drive/My Drive/Colab Notebooks/saturday ia/justicia abierta/salida_doc2text/089.txt\n",
            "/content/drive/My Drive/Colab Notebooks/saturday ia/justicia abierta/salida_doc2text/091.txt\n",
            "/content/drive/My Drive/Colab Notebooks/saturday ia/justicia abierta/salida_doc2text/085.txt\n",
            "/content/drive/My Drive/Colab Notebooks/saturday ia/justicia abierta/salida_doc2text/098.txt\n",
            "/content/drive/My Drive/Colab Notebooks/saturday ia/justicia abierta/salida_doc2text/060.txt\n",
            "/content/drive/My Drive/Colab Notebooks/saturday ia/justicia abierta/salida_doc2text/035.txt\n",
            "/content/drive/My Drive/Colab Notebooks/saturday ia/justicia abierta/salida_doc2text/093.txt\n",
            "/content/drive/My Drive/Colab Notebooks/saturday ia/justicia abierta/salida_doc2text/005.txt\n",
            "/content/drive/My Drive/Colab Notebooks/saturday ia/justicia abierta/salida_doc2text/065.txt\n",
            "/content/drive/My Drive/Colab Notebooks/saturday ia/justicia abierta/salida_doc2text/037.txt\n",
            "/content/drive/My Drive/Colab Notebooks/saturday ia/justicia abierta/salida_doc2text/078.txt\n",
            "/content/drive/My Drive/Colab Notebooks/saturday ia/justicia abierta/salida_doc2text/016.txt\n",
            "/content/drive/My Drive/Colab Notebooks/saturday ia/justicia abierta/salida_doc2text/066.txt\n",
            "/content/drive/My Drive/Colab Notebooks/saturday ia/justicia abierta/salida_doc2text/041.txt\n",
            "/content/drive/My Drive/Colab Notebooks/saturday ia/justicia abierta/salida_doc2text/087.txt\n",
            "/content/drive/My Drive/Colab Notebooks/saturday ia/justicia abierta/salida_doc2text/017.txt\n",
            "/content/drive/My Drive/Colab Notebooks/saturday ia/justicia abierta/salida_doc2text/061.txt\n",
            "/content/drive/My Drive/Colab Notebooks/saturday ia/justicia abierta/salida_doc2text/048.txt\n",
            "/content/drive/My Drive/Colab Notebooks/saturday ia/justicia abierta/salida_doc2text/080.txt\n",
            "/content/drive/My Drive/Colab Notebooks/saturday ia/justicia abierta/salida_doc2text/018.txt\n",
            "/content/drive/My Drive/Colab Notebooks/saturday ia/justicia abierta/salida_doc2text/067.txt\n",
            "/content/drive/My Drive/Colab Notebooks/saturday ia/justicia abierta/salida_doc2text/050.txt\n",
            "/content/drive/My Drive/Colab Notebooks/saturday ia/justicia abierta/salida_doc2text/097.txt\n",
            "/content/drive/My Drive/Colab Notebooks/saturday ia/justicia abierta/salida_doc2text/095.txt\n",
            "/content/drive/My Drive/Colab Notebooks/saturday ia/justicia abierta/salida_doc2text/046.txt\n",
            "/content/drive/My Drive/Colab Notebooks/saturday ia/justicia abierta/salida_doc2text/069.txt\n",
            "/content/drive/My Drive/Colab Notebooks/saturday ia/justicia abierta/salida_doc2text/104.txt\n",
            "/content/drive/My Drive/Colab Notebooks/saturday ia/justicia abierta/salida_doc2text/102.txt\n",
            "/content/drive/My Drive/Colab Notebooks/saturday ia/justicia abierta/salida_doc2text/020.txt\n",
            "/content/drive/My Drive/Colab Notebooks/saturday ia/justicia abierta/salida_doc2text/051.txt\n",
            "/content/drive/My Drive/Colab Notebooks/saturday ia/justicia abierta/salida_doc2text/064.txt\n",
            "/content/drive/My Drive/Colab Notebooks/saturday ia/justicia abierta/salida_doc2text/099.txt\n",
            "/content/drive/My Drive/Colab Notebooks/saturday ia/justicia abierta/salida_doc2text/100.txt\n",
            "/content/drive/My Drive/Colab Notebooks/saturday ia/justicia abierta/salida_doc2text/019.txt\n",
            "/content/drive/My Drive/Colab Notebooks/saturday ia/justicia abierta/salida_doc2text/047.txt\n",
            "/content/drive/My Drive/Colab Notebooks/saturday ia/justicia abierta/salida_doc2text/101.txt\n",
            "/content/drive/My Drive/Colab Notebooks/saturday ia/justicia abierta/salida_doc2text/073.txt\n",
            "/content/drive/My Drive/Colab Notebooks/saturday ia/justicia abierta/salida_doc2text/021.txt\n",
            "/content/drive/My Drive/Colab Notebooks/saturday ia/justicia abierta/salida_doc2text/055.txt\n",
            "/content/drive/My Drive/Colab Notebooks/saturday ia/justicia abierta/salida_doc2text/075.txt\n",
            "/content/drive/My Drive/Colab Notebooks/saturday ia/justicia abierta/salida_doc2text/023.txt\n",
            "/content/drive/My Drive/Colab Notebooks/saturday ia/justicia abierta/salida_doc2text/057.txt\n",
            "/content/drive/My Drive/Colab Notebooks/saturday ia/justicia abierta/salida_doc2text/068.txt\n",
            "/content/drive/My Drive/Colab Notebooks/saturday ia/justicia abierta/salida_doc2text/030.txt\n",
            "/content/drive/My Drive/Colab Notebooks/saturday ia/justicia abierta/salida_doc2text/059.txt\n",
            "/content/drive/My Drive/Colab Notebooks/saturday ia/justicia abierta/salida_doc2text/077.txt\n",
            "/content/drive/My Drive/Colab Notebooks/saturday ia/justicia abierta/salida_doc2text/025.txt\n",
            "/content/drive/My Drive/Colab Notebooks/saturday ia/justicia abierta/salida_doc2text/107.txt\n",
            "/content/drive/My Drive/Colab Notebooks/saturday ia/justicia abierta/salida_doc2text/103.txt\n",
            "/content/drive/My Drive/Colab Notebooks/saturday ia/justicia abierta/salida_doc2text/108.txt\n",
            "/content/drive/My Drive/Colab Notebooks/saturday ia/justicia abierta/salida_doc2text/111.txt\n",
            "/content/drive/My Drive/Colab Notebooks/saturday ia/justicia abierta/salida_doc2text/109.txt\n",
            "/content/drive/My Drive/Colab Notebooks/saturday ia/justicia abierta/salida_doc2text/106.txt\n",
            "/content/drive/My Drive/Colab Notebooks/saturday ia/justicia abierta/salida_doc2text/116.txt\n",
            "/content/drive/My Drive/Colab Notebooks/saturday ia/justicia abierta/salida_doc2text/110.txt\n",
            "/content/drive/My Drive/Colab Notebooks/saturday ia/justicia abierta/salida_doc2text/119.txt\n",
            "/content/drive/My Drive/Colab Notebooks/saturday ia/justicia abierta/salida_doc2text/114.txt\n",
            "/content/drive/My Drive/Colab Notebooks/saturday ia/justicia abierta/salida_doc2text/121.txt\n",
            "/content/drive/My Drive/Colab Notebooks/saturday ia/justicia abierta/salida_doc2text/117.txt\n",
            "/content/drive/My Drive/Colab Notebooks/saturday ia/justicia abierta/salida_doc2text/118.txt\n",
            "/content/drive/My Drive/Colab Notebooks/saturday ia/justicia abierta/salida_doc2text/124.txt\n",
            "/content/drive/My Drive/Colab Notebooks/saturday ia/justicia abierta/salida_doc2text/120.txt\n",
            "/content/drive/My Drive/Colab Notebooks/saturday ia/justicia abierta/salida_doc2text/126.txt\n",
            "/content/drive/My Drive/Colab Notebooks/saturday ia/justicia abierta/salida_doc2text/122.txt\n",
            "/content/drive/My Drive/Colab Notebooks/saturday ia/justicia abierta/salida_doc2text/123.txt\n",
            "/content/drive/My Drive/Colab Notebooks/saturday ia/justicia abierta/salida_doc2text/129.txt\n",
            "/content/drive/My Drive/Colab Notebooks/saturday ia/justicia abierta/salida_doc2text/125.txt\n",
            "/content/drive/My Drive/Colab Notebooks/saturday ia/justicia abierta/salida_doc2text/127.txt\n",
            "/content/drive/My Drive/Colab Notebooks/saturday ia/justicia abierta/salida_doc2text/128.txt\n",
            "/content/drive/My Drive/Colab Notebooks/saturday ia/justicia abierta/salida_doc2text/132.txt\n",
            "/content/drive/My Drive/Colab Notebooks/saturday ia/justicia abierta/salida_doc2text/130.txt\n",
            "/content/drive/My Drive/Colab Notebooks/saturday ia/justicia abierta/salida_doc2text/131.txt\n",
            "/content/drive/My Drive/Colab Notebooks/saturday ia/justicia abierta/salida_doc2text/139.txt\n",
            "/content/drive/My Drive/Colab Notebooks/saturday ia/justicia abierta/salida_doc2text/138.txt\n",
            "/content/drive/My Drive/Colab Notebooks/saturday ia/justicia abierta/salida_doc2text/133.txt\n",
            "/content/drive/My Drive/Colab Notebooks/saturday ia/justicia abierta/salida_doc2text/134.txt\n",
            "/content/drive/My Drive/Colab Notebooks/saturday ia/justicia abierta/salida_doc2text/135.txt\n",
            "/content/drive/My Drive/Colab Notebooks/saturday ia/justicia abierta/salida_doc2text/141.txt\n",
            "/content/drive/My Drive/Colab Notebooks/saturday ia/justicia abierta/salida_doc2text/136.txt\n",
            "/content/drive/My Drive/Colab Notebooks/saturday ia/justicia abierta/salida_doc2text/137.txt\n",
            "/content/drive/My Drive/Colab Notebooks/saturday ia/justicia abierta/salida_doc2text/143.txt\n",
            "/content/drive/My Drive/Colab Notebooks/saturday ia/justicia abierta/salida_doc2text/140.txt\n",
            "/content/drive/My Drive/Colab Notebooks/saturday ia/justicia abierta/salida_doc2text/142.txt\n"
          ],
          "name": "stdout"
        }
      ]
    },
    {
      "cell_type": "code",
      "metadata": {
        "id": "8t_kapZa9zB1"
      },
      "source": [
        "def procesa_setencias():\n",
        "  ruta=\"/content/drive/My Drive/Colab Notebooks/saturday ia/justicia abierta/0 versiones finales/\"\n",
        "  ruta_salida = \"/content/drive/My Drive/Colab Notebooks/saturday ia/justicia abierta/salida_doc2text/\"\n",
        "  ruta_filtros='/content/drive/My Drive/Colab Notebooks/saturday ia/justicia abierta/archivos_limpios/'\n",
        "  print (ruta,ruta_salida,ruta_filtros)\n",
        "  limpiar_sentencias(ruta_salida,ruta_filtros)\n"
      ],
      "execution_count": 64,
      "outputs": []
    },
    {
      "cell_type": "code",
      "metadata": {
        "id": "cfVszy-1dUhA"
      },
      "source": [
        "def limpiar_sentencias(ruta_txt,ruta_filtro):\n",
        "  local_download_path = os.path.expanduser(ruta_txt)\n",
        "  for file in os.listdir(local_download_path):\n",
        "    print (ruta_txt+file)\n",
        "    f=open(ruta_txt+file)\n",
        "    sentencia=f.read()\n",
        "    word_tokens= word_tokenize(sentencia)\n",
        "    word_tokens = list(filter (lambda token: token not in string.punctuation,word_tokens))\n",
        "    filtro=[]\n",
        "    for palabra in word_tokens:\n",
        "      if palabra.lower() not in stop_words:\n",
        "        filtro.append(palabra.lower())\n",
        "    f.close()\n",
        "    f2=open(ruta_filtro+file,\"w\") # crear archivo donde se guardan las setencias\n",
        "    archivo_ranking=ruta_filtro+\"rank\"+file\n",
        "    guardar_ranking(filtro,archivo_ranking)\n",
        "    f2.write(''.join(filtro))\n",
        "    f2.close()\n",
        "\n",
        "    \n",
        "    #todo guardar pandas dataset"
      ],
      "execution_count": 63,
      "outputs": []
    },
    {
      "cell_type": "code",
      "metadata": {
        "id": "xitUzTMqhOCL"
      },
      "source": [
        "def guardar_ranking(filtro,archivo_ranking):\n",
        "  c= Counter(filtro)\n",
        "  y=OrderedDict(c.most_common(200))\n",
        "  with open(archivo_ranking,'w') as f:\n",
        "    for k,v in y.items():\n",
        "      f.write(f'{k}: {v} \\n')"
      ],
      "execution_count": 62,
      "outputs": []
    },
    {
      "cell_type": "code",
      "metadata": {
        "id": "o_oOuPhSTSIw",
        "outputId": "4f468244-37a7-4d07-f4aa-c663d2baadc1",
        "colab": {
          "base_uri": "https://localhost:8080/"
        }
      },
      "source": [
        "import nltk.data   \n",
        "spanish_tokenizer = nltk.data.load('tokenizers/punkt/PY3/spanish.pickle') \n",
        "  \n",
        "text = 'Hola amigo. Estoy bien.o'\n",
        "sal=spanish_tokenizer.tokenize(text) \n",
        "print (sal[0])"
      ],
      "execution_count": null,
      "outputs": [
        {
          "output_type": "stream",
          "text": [
            "Hola amigo.\n"
          ],
          "name": "stdout"
        }
      ]
    },
    {
      "cell_type": "code",
      "metadata": {
        "id": "2AUbfuXAfHA3"
      },
      "source": [
        "ruta2 =\"/content/drive/My Drive/Colab Notebooks/saturday ia/justicia abierta/salida_doc2text/003.txt\""
      ],
      "execution_count": 11,
      "outputs": []
    },
    {
      "cell_type": "code",
      "metadata": {
        "id": "HNZSQ0kzhZ9u"
      },
      "source": [
        "f=open(ruta2)\n",
        "txtsalida=f.read()"
      ],
      "execution_count": 12,
      "outputs": []
    },
    {
      "cell_type": "code",
      "metadata": {
        "id": "8aKAuRrzeHQE",
        "outputId": "369bb6b2-cae8-4958-b061-5f729efe5a6b",
        "colab": {
          "base_uri": "https://localhost:8080/",
          "height": 165
        }
      },
      "source": [
        "txtsalida"
      ],
      "execution_count": 13,
      "outputs": [
        {
          "output_type": "execute_result",
          "data": {
            "application/vnd.google.colaboratory.intrinsic+json": {
              "type": "string"
            },
            "text/plain": [
              "'FICHA DE DATOS GENERALES\\n\\n\\n\\n\\n\\n\\n\\nEVALUACIÓN DE INCORPORACIÓN DE LA PERSPECTIVA DE GÉNERO EN RESOLUCIONES JURISDICCIONALES\\n\\n\\n\\n\\n\\nNúmero de registro (consecutivo de sentencia recibida):  003\\n\\n\\n\\n\\n\\nUtiliza correctamente la herramienta (puntaje obtenido en la evaluación): .85\\n\\n\\n\\n1. Órgano que emite la sentencia\\n\\n\\tJuzgado Primero de lo Civil de Tlacolula de Matamoros, Oaxaca.\\n\\n2. Instancia procesal en la que se emite la sentencia\\n\\nJuicio ordinario civil \\n\\n3. Tipo de procedimiento\\n\\nDivorcio necesario \\n\\n4. Materia\\n\\nFamiliar\\n\\n5. Número de sentencia \\n\\n370/2012\\n\\n6. Fecha de la sentencia\\n\\n04 de diciembre de 2013\\n\\n7. Derecho (s) materia de análisis\\n\\nDerecho a una vida libre de violencia, derecho a la alimentación, derecho a los bienes, derecho a la salud, derecho a la protección personal de la víctima.\\n\\n8. Instrumentos y/o criterios nacionales e internacionales invocados\\n\\nCódigo Civil\\n\\nCódigo de Procedimientos Civiles del Estado de Oaxaca\\n\\nJurisprudencias nacionales vinculadas a las pruebas ofrecidas\\n\\n9. Medidas de reparación adoptadas\\n\\nNo se dictan medidas de reparación del daño\\n\\n10. Votación por la que fue aprobada (cuando corresponda)\\n\\nNo aplica\\n\\n11. Extracto de los hechos y fundamentos de la sentencia\\n\\nPersonas involucradas:\\n\\nMujer A. Víctima de violencia intrafamiliar, de 50 años de edad, ama de casa, demanda el divorcio necesario y la pensión alimenticia.\\n\\nHombre B. Persona demandada por violencia intrafamiliar, de 47 años de edad.\\n\\n\\n\\nHechos:\\n\\nEl 9 de marzo de 2009 la mujer A se enteró que está infectada del virus de inmunodeficiencia adquirida (VIH), enfermedad que le contagió el demandado quien pese a saber que estaba infectado no le informó nada al respecto y solo se limitó a decirle que era necesario que fuera al hospital. Al llegar a ese lugar le informaron que su cónyuge estaba infectado de VIH y que era necesario hacerle estudios para saber si la había contagiado, lo que se confirmó. La actora empezó a recibir ayuda médica y psicológica en el COESIDA, institución a la que sigue asistiendo hasta el día de la presentación de la demanda.\\n\\n\\n\\nEl 9 de agosto del año 2012 por la noche, la mujer salió del domicilio conyugal para una labor con el ganado; regresó junto con su hijo a su casa y al llegar el demandado la empezó a insultar, discutiendo con la actora en la calle, le dijo, entre otras cosas: “a dónde fuiste” “a quién fuiste a ver” y al tiempo que le reclamaba la agarró de los brazos, la jaloneó y también le dijo “a ver ven te voy a revisar”, intentando desvestirla. Su hija le pidió al agresor que se fuera de la casa, él se negó sosteniendo que tenía el derecho a estar ahí.\\n\\n\\n\\nEl 25 de julio el demandado nuevamente se presentó en el domicilio conyugal como de costumbre, la llamó para que fuera a dormir a su lado, ella no aceptó. El demandado le decía a la mujer que seguramente se estaba guardando para alguien más y desde que se instaló nuevamente en el domicilio conyugal insultaba y amenazaba a la mujer, le repetía que la dejaría en la calle (aun sabiendo que el inmueble en el que viven es irregular y que no hay papeles que avalen la propiedad del mismo). Ella vive en un estado de angustia por esas agresiones.\\n\\n\\n\\nPruebas:\\n\\nLos hechos narrados de acuerdo al juzgador, no son útiles para concluir que existió sevicia por parte de él hacia ella y tampoco da credibilidad a las amenazas, porque ella no recuerda la fecha exacta en que las hizo, así como circunstancias de lugar y tiempo.\\n\\nDocumento del Registro Civil para demostrar vínculo matrimonial.\\n\\nRecetas médicas con el membrete del Centro Nacional para la Prevención y control del VIH/SIDA y CAPASITS.\\n\\nInforme de doctora médico-obstetra donde se acredita que la mujer es portadora del virus.\\n\\nInforme de médico-infectóloga, donde se acredita que el hombre es portador del virus.\\n\\nDocumental de exámenes de sangre del Instituto Nacional de Enfermedades Respiratorias “Ismael Cosío Villegas”.\\n\\nTestimoniales de dos familiares que les constan las cosas que el hombre le dice a la mujer. Las mismas no fueron valoradas positivamente por el juzgador porque no lograron especificar circunstancias de tiempo, modo y lugar de lo que les preguntaban.\\n\\nDocumental consistente en el informe de una psicóloga que valora a la mujer sobre la violencia recibida.\\n\\nTestimoniales de hija e hijo de la mujer, familiares a quienes les constan las cosas que el hombre le dice a la mujer. Las mismas no fueron valoradas positivamente por el juzgador porque no lograron especificar circunstancias de tiempo, modo y lugar de lo que les preguntaban.\\n\\nConfesional de la mujer sobre los bienes que tienen y cómo los adquirieron. El juez considera que está probado que al haber bienes esa sería una forma de garantizar alimentos y por lo mismo, absuelve al demandado de esa pretensión.\\n\\nEl juzgador consideró que no quedó probada la violencia familiar porque para ello se necesita el relato pormenorizado de circunstancias de tiempo, modo y lugar en que sucedieron los hechos.\\n\\nDocumentales públicas consistentes en actas de nacimiento de su hija e hijo.\\n\\n\\n\\nResoluciones\\n\\nSe declara la disolución del vínculo matrimonial.\\n\\nSe condena al deudor al pago de una pensión alimenticia definitiva a favor de la actora de un salario mínimo diario vigente en la región.\\n\\n12. Nombre/s de quienes dictaron la sentencia\\n\\nLic. Adriana Cecilia Zárate Ramírez. Juez Primera de lo Civil en Tlacolula de Matamoros, Oaxaca.\\n\\n13. Votos concurrentes o disidentes (en su caso)\\n\\nNo aplica\\n\\n14. Justificación\\n\\nLa sentencia se fundamenta en el Código Civil y Código de Procedimientos Civiles del Estado de Oaxaca y jurisprudencias. No se invocaron otras leyes para la resolución del caso. No tiene perspectiva de género porque no visibiliza la existencia de un ejercicio asimétrico de poder material y estructural entre las partes fundado en razones de género, que se desarrolla a partir de la relación afectivo-emocional que hay entre las partes, en donde se reproducen roles de género. No analiza el contexto en donde vive la actora y el demandado, la situación de violencia sistemática (física, psicológica, sexual y económica a la que había sido sometida la victima por parte del demandado) y tampoco contextualiza el caso dentro del marco de violencia contra la mujer por razones de género.'"
            ]
          },
          "metadata": {
            "tags": []
          },
          "execution_count": 13
        }
      ]
    },
    {
      "cell_type": "code",
      "metadata": {
        "id": "b4NU5peTeETu"
      },
      "source": [
        "from nltk.corpus import stopwords\n",
        "import string"
      ],
      "execution_count": null,
      "outputs": []
    },
    {
      "cell_type": "code",
      "metadata": {
        "id": "PX65bQtofspT"
      },
      "source": [
        "stop_words= set (stopwords.words('spanish'))\n"
      ],
      "execution_count": null,
      "outputs": []
    },
    {
      "cell_type": "code",
      "metadata": {
        "id": "x_88Vps6fZRm"
      },
      "source": [
        "word_tokens= word_tokenize(txtsalida)"
      ],
      "execution_count": null,
      "outputs": []
    },
    {
      "cell_type": "code",
      "metadata": {
        "id": "QoFQQgqQfgqY",
        "outputId": "e16b3c40-f856-4265-8a3e-94fbd56db3e6",
        "colab": {
          "base_uri": "https://localhost:8080/"
        }
      },
      "source": [
        "word_tokens = list(filter (lambda token: token not in string.punctuation,word_tokens))\n",
        "print (word_tokens)"
      ],
      "execution_count": null,
      "outputs": [
        {
          "output_type": "stream",
          "text": [
            "['FICHA', 'DE', 'DATOS', 'GENERALES', 'EVALUACIÓN', 'DE', 'INCORPORACIÓN', 'DE', 'LA', 'PERSPECTIVA', 'DE', 'GÉNERO', 'EN', 'RESOLUCIONES', 'JURISDICCIONALES', 'Número', 'de', 'registro', 'consecutivo', 'de', 'sentencia', 'recibida', '003', 'Utiliza', 'correctamente', 'la', 'herramienta', 'puntaje', 'obtenido', 'en', 'la', 'evaluación', '.85', '1', 'Órgano', 'que', 'emite', 'la', 'sentencia', 'Juzgado', 'Primero', 'de', 'lo', 'Civil', 'de', 'Tlacolula', 'de', 'Matamoros', 'Oaxaca', '2', 'Instancia', 'procesal', 'en', 'la', 'que', 'se', 'emite', 'la', 'sentencia', 'Juicio', 'ordinario', 'civil', '3', 'Tipo', 'de', 'procedimiento', 'Divorcio', 'necesario', '4', 'Materia', 'Familiar', '5', 'Número', 'de', 'sentencia', '370/2012', '6', 'Fecha', 'de', 'la', 'sentencia', '04', 'de', 'diciembre', 'de', '2013', '7', 'Derecho', 's', 'materia', 'de', 'análisis', 'Derecho', 'a', 'una', 'vida', 'libre', 'de', 'violencia', 'derecho', 'a', 'la', 'alimentación', 'derecho', 'a', 'los', 'bienes', 'derecho', 'a', 'la', 'salud', 'derecho', 'a', 'la', 'protección', 'personal', 'de', 'la', 'víctima', '8', 'Instrumentos', 'y/o', 'criterios', 'nacionales', 'e', 'internacionales', 'invocados', 'Código', 'Civil', 'Código', 'de', 'Procedimientos', 'Civiles', 'del', 'Estado', 'de', 'Oaxaca', 'Jurisprudencias', 'nacionales', 'vinculadas', 'a', 'las', 'pruebas', 'ofrecidas', '9', 'Medidas', 'de', 'reparación', 'adoptadas', 'No', 'se', 'dictan', 'medidas', 'de', 'reparación', 'del', 'daño', '10', 'Votación', 'por', 'la', 'que', 'fue', 'aprobada', 'cuando', 'corresponda', 'No', 'aplica', '11', 'Extracto', 'de', 'los', 'hechos', 'y', 'fundamentos', 'de', 'la', 'sentencia', 'Personas', 'involucradas', 'Mujer', 'A.', 'Víctima', 'de', 'violencia', 'intrafamiliar', 'de', '50', 'años', 'de', 'edad', 'ama', 'de', 'casa', 'demanda', 'el', 'divorcio', 'necesario', 'y', 'la', 'pensión', 'alimenticia', 'Hombre', 'B.', 'Persona', 'demandada', 'por', 'violencia', 'intrafamiliar', 'de', '47', 'años', 'de', 'edad', 'Hechos', 'El', '9', 'de', 'marzo', 'de', '2009', 'la', 'mujer', 'A', 'se', 'enteró', 'que', 'está', 'infectada', 'del', 'virus', 'de', 'inmunodeficiencia', 'adquirida', 'VIH', 'enfermedad', 'que', 'le', 'contagió', 'el', 'demandado', 'quien', 'pese', 'a', 'saber', 'que', 'estaba', 'infectado', 'no', 'le', 'informó', 'nada', 'al', 'respecto', 'y', 'solo', 'se', 'limitó', 'a', 'decirle', 'que', 'era', 'necesario', 'que', 'fuera', 'al', 'hospital', 'Al', 'llegar', 'a', 'ese', 'lugar', 'le', 'informaron', 'que', 'su', 'cónyuge', 'estaba', 'infectado', 'de', 'VIH', 'y', 'que', 'era', 'necesario', 'hacerle', 'estudios', 'para', 'saber', 'si', 'la', 'había', 'contagiado', 'lo', 'que', 'se', 'confirmó', 'La', 'actora', 'empezó', 'a', 'recibir', 'ayuda', 'médica', 'y', 'psicológica', 'en', 'el', 'COESIDA', 'institución', 'a', 'la', 'que', 'sigue', 'asistiendo', 'hasta', 'el', 'día', 'de', 'la', 'presentación', 'de', 'la', 'demanda', 'El', '9', 'de', 'agosto', 'del', 'año', '2012', 'por', 'la', 'noche', 'la', 'mujer', 'salió', 'del', 'domicilio', 'conyugal', 'para', 'una', 'labor', 'con', 'el', 'ganado', 'regresó', 'junto', 'con', 'su', 'hijo', 'a', 'su', 'casa', 'y', 'al', 'llegar', 'el', 'demandado', 'la', 'empezó', 'a', 'insultar', 'discutiendo', 'con', 'la', 'actora', 'en', 'la', 'calle', 'le', 'dijo', 'entre', 'otras', 'cosas', '“', 'a', 'dónde', 'fuiste', '”', '“', 'a', 'quién', 'fuiste', 'a', 'ver', '”', 'y', 'al', 'tiempo', 'que', 'le', 'reclamaba', 'la', 'agarró', 'de', 'los', 'brazos', 'la', 'jaloneó', 'y', 'también', 'le', 'dijo', '“', 'a', 'ver', 'ven', 'te', 'voy', 'a', 'revisar', '”', 'intentando', 'desvestirla', 'Su', 'hija', 'le', 'pidió', 'al', 'agresor', 'que', 'se', 'fuera', 'de', 'la', 'casa', 'él', 'se', 'negó', 'sosteniendo', 'que', 'tenía', 'el', 'derecho', 'a', 'estar', 'ahí', 'El', '25', 'de', 'julio', 'el', 'demandado', 'nuevamente', 'se', 'presentó', 'en', 'el', 'domicilio', 'conyugal', 'como', 'de', 'costumbre', 'la', 'llamó', 'para', 'que', 'fuera', 'a', 'dormir', 'a', 'su', 'lado', 'ella', 'no', 'aceptó', 'El', 'demandado', 'le', 'decía', 'a', 'la', 'mujer', 'que', 'seguramente', 'se', 'estaba', 'guardando', 'para', 'alguien', 'más', 'y', 'desde', 'que', 'se', 'instaló', 'nuevamente', 'en', 'el', 'domicilio', 'conyugal', 'insultaba', 'y', 'amenazaba', 'a', 'la', 'mujer', 'le', 'repetía', 'que', 'la', 'dejaría', 'en', 'la', 'calle', 'aun', 'sabiendo', 'que', 'el', 'inmueble', 'en', 'el', 'que', 'viven', 'es', 'irregular', 'y', 'que', 'no', 'hay', 'papeles', 'que', 'avalen', 'la', 'propiedad', 'del', 'mismo', 'Ella', 'vive', 'en', 'un', 'estado', 'de', 'angustia', 'por', 'esas', 'agresiones', 'Pruebas', 'Los', 'hechos', 'narrados', 'de', 'acuerdo', 'al', 'juzgador', 'no', 'son', 'útiles', 'para', 'concluir', 'que', 'existió', 'sevicia', 'por', 'parte', 'de', 'él', 'hacia', 'ella', 'y', 'tampoco', 'da', 'credibilidad', 'a', 'las', 'amenazas', 'porque', 'ella', 'no', 'recuerda', 'la', 'fecha', 'exacta', 'en', 'que', 'las', 'hizo', 'así', 'como', 'circunstancias', 'de', 'lugar', 'y', 'tiempo', 'Documento', 'del', 'Registro', 'Civil', 'para', 'demostrar', 'vínculo', 'matrimonial', 'Recetas', 'médicas', 'con', 'el', 'membrete', 'del', 'Centro', 'Nacional', 'para', 'la', 'Prevención', 'y', 'control', 'del', 'VIH/SIDA', 'y', 'CAPASITS', 'Informe', 'de', 'doctora', 'médico-obstetra', 'donde', 'se', 'acredita', 'que', 'la', 'mujer', 'es', 'portadora', 'del', 'virus', 'Informe', 'de', 'médico-infectóloga', 'donde', 'se', 'acredita', 'que', 'el', 'hombre', 'es', 'portador', 'del', 'virus', 'Documental', 'de', 'exámenes', 'de', 'sangre', 'del', 'Instituto', 'Nacional', 'de', 'Enfermedades', 'Respiratorias', '“', 'Ismael', 'Cosío', 'Villegas', '”', 'Testimoniales', 'de', 'dos', 'familiares', 'que', 'les', 'constan', 'las', 'cosas', 'que', 'el', 'hombre', 'le', 'dice', 'a', 'la', 'mujer', 'Las', 'mismas', 'no', 'fueron', 'valoradas', 'positivamente', 'por', 'el', 'juzgador', 'porque', 'no', 'lograron', 'especificar', 'circunstancias', 'de', 'tiempo', 'modo', 'y', 'lugar', 'de', 'lo', 'que', 'les', 'preguntaban', 'Documental', 'consistente', 'en', 'el', 'informe', 'de', 'una', 'psicóloga', 'que', 'valora', 'a', 'la', 'mujer', 'sobre', 'la', 'violencia', 'recibida', 'Testimoniales', 'de', 'hija', 'e', 'hijo', 'de', 'la', 'mujer', 'familiares', 'a', 'quienes', 'les', 'constan', 'las', 'cosas', 'que', 'el', 'hombre', 'le', 'dice', 'a', 'la', 'mujer', 'Las', 'mismas', 'no', 'fueron', 'valoradas', 'positivamente', 'por', 'el', 'juzgador', 'porque', 'no', 'lograron', 'especificar', 'circunstancias', 'de', 'tiempo', 'modo', 'y', 'lugar', 'de', 'lo', 'que', 'les', 'preguntaban', 'Confesional', 'de', 'la', 'mujer', 'sobre', 'los', 'bienes', 'que', 'tienen', 'y', 'cómo', 'los', 'adquirieron', 'El', 'juez', 'considera', 'que', 'está', 'probado', 'que', 'al', 'haber', 'bienes', 'esa', 'sería', 'una', 'forma', 'de', 'garantizar', 'alimentos', 'y', 'por', 'lo', 'mismo', 'absuelve', 'al', 'demandado', 'de', 'esa', 'pretensión', 'El', 'juzgador', 'consideró', 'que', 'no', 'quedó', 'probada', 'la', 'violencia', 'familiar', 'porque', 'para', 'ello', 'se', 'necesita', 'el', 'relato', 'pormenorizado', 'de', 'circunstancias', 'de', 'tiempo', 'modo', 'y', 'lugar', 'en', 'que', 'sucedieron', 'los', 'hechos', 'Documentales', 'públicas', 'consistentes', 'en', 'actas', 'de', 'nacimiento', 'de', 'su', 'hija', 'e', 'hijo', 'Resoluciones', 'Se', 'declara', 'la', 'disolución', 'del', 'vínculo', 'matrimonial', 'Se', 'condena', 'al', 'deudor', 'al', 'pago', 'de', 'una', 'pensión', 'alimenticia', 'definitiva', 'a', 'favor', 'de', 'la', 'actora', 'de', 'un', 'salario', 'mínimo', 'diario', 'vigente', 'en', 'la', 'región', '12', 'Nombre/s', 'de', 'quienes', 'dictaron', 'la', 'sentencia', 'Lic', 'Adriana', 'Cecilia', 'Zárate', 'Ramírez', 'Juez', 'Primera', 'de', 'lo', 'Civil', 'en', 'Tlacolula', 'de', 'Matamoros', 'Oaxaca', '13', 'Votos', 'concurrentes', 'o', 'disidentes', 'en', 'su', 'caso', 'No', 'aplica', '14', 'Justificación', 'La', 'sentencia', 'se', 'fundamenta', 'en', 'el', 'Código', 'Civil', 'y', 'Código', 'de', 'Procedimientos', 'Civiles', 'del', 'Estado', 'de', 'Oaxaca', 'y', 'jurisprudencias', 'No', 'se', 'invocaron', 'otras', 'leyes', 'para', 'la', 'resolución', 'del', 'caso', 'No', 'tiene', 'perspectiva', 'de', 'género', 'porque', 'no', 'visibiliza', 'la', 'existencia', 'de', 'un', 'ejercicio', 'asimétrico', 'de', 'poder', 'material', 'y', 'estructural', 'entre', 'las', 'partes', 'fundado', 'en', 'razones', 'de', 'género', 'que', 'se', 'desarrolla', 'a', 'partir', 'de', 'la', 'relación', 'afectivo-emocional', 'que', 'hay', 'entre', 'las', 'partes', 'en', 'donde', 'se', 'reproducen', 'roles', 'de', 'género', 'No', 'analiza', 'el', 'contexto', 'en', 'donde', 'vive', 'la', 'actora', 'y', 'el', 'demandado', 'la', 'situación', 'de', 'violencia', 'sistemática', 'física', 'psicológica', 'sexual', 'y', 'económica', 'a', 'la', 'que', 'había', 'sido', 'sometida', 'la', 'victima', 'por', 'parte', 'del', 'demandado', 'y', 'tampoco', 'contextualiza', 'el', 'caso', 'dentro', 'del', 'marco', 'de', 'violencia', 'contra', 'la', 'mujer', 'por', 'razones', 'de', 'género']\n"
          ],
          "name": "stdout"
        }
      ]
    },
    {
      "cell_type": "code",
      "metadata": {
        "id": "NnD2DR_riahG",
        "outputId": "20a18c57-c43f-4804-b811-d9c087d903b6",
        "colab": {
          "base_uri": "https://localhost:8080/"
        }
      },
      "source": [
        "filtro=[]\n",
        "for palabra in word_tokens:\n",
        "  if palabra.lower() not in stop_words:\n",
        "    filtro.append(palabra.lower())\n",
        "print (filtro)\n"
      ],
      "execution_count": null,
      "outputs": [
        {
          "output_type": "stream",
          "text": [
            "['ficha', 'datos', 'generales', 'evaluación', 'incorporación', 'perspectiva', 'género', 'resoluciones', 'jurisdiccionales', 'número', 'registro', 'consecutivo', 'sentencia', 'recibida', '003', 'utiliza', 'correctamente', 'herramienta', 'puntaje', 'obtenido', 'evaluación', '.85', '1', 'órgano', 'emite', 'sentencia', 'juzgado', 'primero', 'civil', 'tlacolula', 'matamoros', 'oaxaca', '2', 'instancia', 'procesal', 'emite', 'sentencia', 'juicio', 'ordinario', 'civil', '3', 'tipo', 'procedimiento', 'divorcio', 'necesario', '4', 'materia', 'familiar', '5', 'número', 'sentencia', '370/2012', '6', 'fecha', 'sentencia', '04', 'diciembre', '2013', '7', 'derecho', 's', 'materia', 'análisis', 'derecho', 'vida', 'libre', 'violencia', 'derecho', 'alimentación', 'derecho', 'bienes', 'derecho', 'salud', 'derecho', 'protección', 'personal', 'víctima', '8', 'instrumentos', 'y/o', 'criterios', 'nacionales', 'internacionales', 'invocados', 'código', 'civil', 'código', 'procedimientos', 'civiles', 'oaxaca', 'jurisprudencias', 'nacionales', 'vinculadas', 'pruebas', 'ofrecidas', '9', 'medidas', 'reparación', 'adoptadas', 'dictan', 'medidas', 'reparación', 'daño', '10', 'votación', 'aprobada', 'corresponda', 'aplica', '11', 'extracto', 'hechos', 'fundamentos', 'sentencia', 'personas', 'involucradas', 'mujer', 'a.', 'víctima', 'violencia', 'intrafamiliar', '50', 'años', 'edad', 'ama', 'casa', 'demanda', 'divorcio', 'necesario', 'pensión', 'alimenticia', 'hombre', 'b.', 'persona', 'demandada', 'violencia', 'intrafamiliar', '47', 'años', 'edad', 'hechos', '9', 'marzo', '2009', 'mujer', 'enteró', 'infectada', 'virus', 'inmunodeficiencia', 'adquirida', 'vih', 'enfermedad', 'contagió', 'demandado', 'pese', 'saber', 'infectado', 'informó', 'respecto', 'solo', 'limitó', 'decirle', 'necesario', 'hospital', 'llegar', 'lugar', 'informaron', 'cónyuge', 'infectado', 'vih', 'necesario', 'hacerle', 'estudios', 'saber', 'si', 'contagiado', 'confirmó', 'actora', 'empezó', 'recibir', 'ayuda', 'médica', 'psicológica', 'coesida', 'institución', 'sigue', 'asistiendo', 'día', 'presentación', 'demanda', '9', 'agosto', 'año', '2012', 'noche', 'mujer', 'salió', 'domicilio', 'conyugal', 'labor', 'ganado', 'regresó', 'junto', 'hijo', 'casa', 'llegar', 'demandado', 'empezó', 'insultar', 'discutiendo', 'actora', 'calle', 'dijo', 'cosas', '“', 'dónde', '”', '“', 'quién', 'ver', '”', 'tiempo', 'reclamaba', 'agarró', 'brazos', 'jaloneó', 'dijo', '“', 'ver', 'ven', 'voy', 'revisar', '”', 'intentando', 'desvestirla', 'hija', 'pidió', 'agresor', 'casa', 'negó', 'sosteniendo', 'derecho', 'ahí', '25', 'julio', 'demandado', 'nuevamente', 'presentó', 'domicilio', 'conyugal', 'costumbre', 'llamó', 'dormir', 'lado', 'aceptó', 'demandado', 'decía', 'mujer', 'seguramente', 'guardando', 'alguien', 'instaló', 'nuevamente', 'domicilio', 'conyugal', 'insultaba', 'amenazaba', 'mujer', 'repetía', 'dejaría', 'calle', 'aun', 'sabiendo', 'inmueble', 'viven', 'irregular', 'papeles', 'avalen', 'propiedad', 'mismo', 'vive', 'angustia', 'agresiones', 'pruebas', 'hechos', 'narrados', 'acuerdo', 'juzgador', 'útiles', 'concluir', 'existió', 'sevicia', 'parte', 'hacia', 'tampoco', 'da', 'credibilidad', 'amenazas', 'recuerda', 'fecha', 'exacta', 'hizo', 'así', 'circunstancias', 'lugar', 'tiempo', 'documento', 'registro', 'civil', 'demostrar', 'vínculo', 'matrimonial', 'recetas', 'médicas', 'membrete', 'centro', 'nacional', 'prevención', 'control', 'vih/sida', 'capasits', 'informe', 'doctora', 'médico-obstetra', 'acredita', 'mujer', 'portadora', 'virus', 'informe', 'médico-infectóloga', 'acredita', 'hombre', 'portador', 'virus', 'documental', 'exámenes', 'sangre', 'instituto', 'nacional', 'enfermedades', 'respiratorias', '“', 'ismael', 'cosío', 'villegas', '”', 'testimoniales', 'dos', 'familiares', 'constan', 'cosas', 'hombre', 'dice', 'mujer', 'mismas', 'valoradas', 'positivamente', 'juzgador', 'lograron', 'especificar', 'circunstancias', 'tiempo', 'modo', 'lugar', 'preguntaban', 'documental', 'consistente', 'informe', 'psicóloga', 'valora', 'mujer', 'violencia', 'recibida', 'testimoniales', 'hija', 'hijo', 'mujer', 'familiares', 'constan', 'cosas', 'hombre', 'dice', 'mujer', 'mismas', 'valoradas', 'positivamente', 'juzgador', 'lograron', 'especificar', 'circunstancias', 'tiempo', 'modo', 'lugar', 'preguntaban', 'confesional', 'mujer', 'bienes', 'cómo', 'adquirieron', 'juez', 'considera', 'probado', 'haber', 'bienes', 'forma', 'garantizar', 'alimentos', 'mismo', 'absuelve', 'demandado', 'pretensión', 'juzgador', 'consideró', 'quedó', 'probada', 'violencia', 'familiar', 'ello', 'necesita', 'relato', 'pormenorizado', 'circunstancias', 'tiempo', 'modo', 'lugar', 'sucedieron', 'hechos', 'documentales', 'públicas', 'consistentes', 'actas', 'nacimiento', 'hija', 'hijo', 'resoluciones', 'declara', 'disolución', 'vínculo', 'matrimonial', 'condena', 'deudor', 'pago', 'pensión', 'alimenticia', 'definitiva', 'favor', 'actora', 'salario', 'mínimo', 'diario', 'vigente', 'región', '12', 'nombre/s', 'dictaron', 'sentencia', 'lic', 'adriana', 'cecilia', 'zárate', 'ramírez', 'juez', 'primera', 'civil', 'tlacolula', 'matamoros', 'oaxaca', '13', 'votos', 'concurrentes', 'disidentes', 'caso', 'aplica', '14', 'justificación', 'sentencia', 'fundamenta', 'código', 'civil', 'código', 'procedimientos', 'civiles', 'oaxaca', 'jurisprudencias', 'invocaron', 'leyes', 'resolución', 'caso', 'perspectiva', 'género', 'visibiliza', 'existencia', 'ejercicio', 'asimétrico', 'poder', 'material', 'estructural', 'partes', 'fundado', 'razones', 'género', 'desarrolla', 'partir', 'relación', 'afectivo-emocional', 'partes', 'reproducen', 'roles', 'género', 'analiza', 'contexto', 'vive', 'actora', 'demandado', 'situación', 'violencia', 'sistemática', 'física', 'psicológica', 'sexual', 'económica', 'sido', 'sometida', 'victima', 'parte', 'demandado', 'tampoco', 'contextualiza', 'caso', 'dentro', 'marco', 'violencia', 'mujer', 'razones', 'género']\n"
          ],
          "name": "stdout"
        }
      ]
    },
    {
      "cell_type": "code",
      "metadata": {
        "id": "HL5ynUXpjxLf",
        "outputId": "0e9a82af-7118-415a-bf26-42583cdb61e1",
        "colab": {
          "base_uri": "https://localhost:8080/"
        }
      },
      "source": [
        "from collections import Counter\n",
        "from _collections import OrderedDict\n",
        "\n",
        "c= Counter(filtro)\n",
        "print (c.most_common(150))\n",
        "y=OrderedDict(c.most_common(200))\n",
        "print (y)"
      ],
      "execution_count": null,
      "outputs": [
        {
          "output_type": "stream",
          "text": [
            "[('mujer', 11), ('sentencia', 8), ('violencia', 7), ('demandado', 7), ('Civil', 5), ('derecho', 5), ('lugar', 5), ('tiempo', 5), ('Oaxaca', 4), ('necesario', 4), ('Código', 4), ('actora', 4), ('“', 4), ('”', 4), ('juzgador', 4), ('circunstancias', 4), ('género', 4), ('bienes', 3), ('9', 3), ('hechos', 3), ('casa', 3), ('virus', 3), ('domicilio', 3), ('conyugal', 3), ('hijo', 3), ('cosas', 3), ('hija', 3), ('hombre', 3), ('modo', 3), ('caso', 3), ('Número', 2), ('recibida', 2), ('emite', 2), ('Tlacolula', 2), ('Matamoros', 2), ('Derecho', 2), ('nacionales', 2), ('Procedimientos', 2), ('Civiles', 2), ('reparación', 2), ('aplica', 2), ('intrafamiliar', 2), ('años', 2), ('edad', 2), ('demanda', 2), ('pensión', 2), ('alimenticia', 2), ('VIH', 2), ('saber', 2), ('infectado', 2), ('llegar', 2), ('empezó', 2), ('psicológica', 2), ('calle', 2), ('dijo', 2), ('ver', 2), ('nuevamente', 2), ('mismo', 2), ('vive', 2), ('parte', 2), ('tampoco', 2), ('vínculo', 2), ('matrimonial', 2), ('Nacional', 2), ('Informe', 2), ('acredita', 2), ('Documental', 2), ('Testimoniales', 2), ('familiares', 2), ('constan', 2), ('dice', 2), ('mismas', 2), ('valoradas', 2), ('positivamente', 2), ('lograron', 2), ('especificar', 2), ('preguntaban', 2), ('partes', 2), ('razones', 2), ('FICHA', 1), ('DATOS', 1), ('GENERALES', 1), ('EVALUACIÓN', 1), ('INCORPORACIÓN', 1), ('PERSPECTIVA', 1), ('GÉNERO', 1), ('RESOLUCIONES', 1), ('JURISDICCIONALES', 1), ('registro', 1), ('consecutivo', 1), ('003', 1), ('Utiliza', 1), ('correctamente', 1), ('herramienta', 1), ('puntaje', 1), ('obtenido', 1), ('evaluación', 1), ('.85', 1), ('1', 1), ('Órgano', 1), ('Juzgado', 1), ('Primero', 1), ('2', 1), ('Instancia', 1), ('procesal', 1), ('Juicio', 1), ('ordinario', 1), ('civil', 1), ('3', 1), ('Tipo', 1), ('procedimiento', 1), ('Divorcio', 1), ('4', 1), ('Materia', 1), ('Familiar', 1), ('5', 1), ('370/2012', 1), ('6', 1), ('Fecha', 1), ('04', 1), ('diciembre', 1), ('2013', 1), ('7', 1), ('s', 1), ('materia', 1), ('análisis', 1), ('vida', 1), ('libre', 1), ('alimentación', 1), ('salud', 1), ('protección', 1), ('personal', 1), ('víctima', 1), ('8', 1), ('Instrumentos', 1), ('y/o', 1), ('criterios', 1), ('internacionales', 1), ('invocados', 1), ('Jurisprudencias', 1), ('vinculadas', 1), ('pruebas', 1), ('ofrecidas', 1), ('Medidas', 1), ('adoptadas', 1), ('dictan', 1), ('medidas', 1), ('daño', 1), ('10', 1), ('Votación', 1)]\n",
            "OrderedDict([('mujer', 11), ('sentencia', 8), ('violencia', 7), ('demandado', 7), ('Civil', 5), ('derecho', 5), ('lugar', 5), ('tiempo', 5), ('Oaxaca', 4), ('necesario', 4), ('Código', 4), ('actora', 4), ('“', 4), ('”', 4), ('juzgador', 4), ('circunstancias', 4), ('género', 4), ('bienes', 3), ('9', 3), ('hechos', 3), ('casa', 3), ('virus', 3), ('domicilio', 3), ('conyugal', 3), ('hijo', 3), ('cosas', 3), ('hija', 3), ('hombre', 3), ('modo', 3), ('caso', 3), ('Número', 2), ('recibida', 2), ('emite', 2), ('Tlacolula', 2), ('Matamoros', 2), ('Derecho', 2), ('nacionales', 2), ('Procedimientos', 2), ('Civiles', 2), ('reparación', 2), ('aplica', 2), ('intrafamiliar', 2), ('años', 2), ('edad', 2), ('demanda', 2), ('pensión', 2), ('alimenticia', 2), ('VIH', 2), ('saber', 2), ('infectado', 2), ('llegar', 2), ('empezó', 2), ('psicológica', 2), ('calle', 2), ('dijo', 2), ('ver', 2), ('nuevamente', 2), ('mismo', 2), ('vive', 2), ('parte', 2), ('tampoco', 2), ('vínculo', 2), ('matrimonial', 2), ('Nacional', 2), ('Informe', 2), ('acredita', 2), ('Documental', 2), ('Testimoniales', 2), ('familiares', 2), ('constan', 2), ('dice', 2), ('mismas', 2), ('valoradas', 2), ('positivamente', 2), ('lograron', 2), ('especificar', 2), ('preguntaban', 2), ('partes', 2), ('razones', 2), ('FICHA', 1), ('DATOS', 1), ('GENERALES', 1), ('EVALUACIÓN', 1), ('INCORPORACIÓN', 1), ('PERSPECTIVA', 1), ('GÉNERO', 1), ('RESOLUCIONES', 1), ('JURISDICCIONALES', 1), ('registro', 1), ('consecutivo', 1), ('003', 1), ('Utiliza', 1), ('correctamente', 1), ('herramienta', 1), ('puntaje', 1), ('obtenido', 1), ('evaluación', 1), ('.85', 1), ('1', 1), ('Órgano', 1), ('Juzgado', 1), ('Primero', 1), ('2', 1), ('Instancia', 1), ('procesal', 1), ('Juicio', 1), ('ordinario', 1), ('civil', 1), ('3', 1), ('Tipo', 1), ('procedimiento', 1), ('Divorcio', 1), ('4', 1), ('Materia', 1), ('Familiar', 1), ('5', 1), ('370/2012', 1), ('6', 1), ('Fecha', 1), ('04', 1), ('diciembre', 1), ('2013', 1), ('7', 1), ('s', 1), ('materia', 1), ('análisis', 1), ('vida', 1), ('libre', 1), ('alimentación', 1), ('salud', 1), ('protección', 1), ('personal', 1), ('víctima', 1), ('8', 1), ('Instrumentos', 1), ('y/o', 1), ('criterios', 1), ('internacionales', 1), ('invocados', 1), ('Jurisprudencias', 1), ('vinculadas', 1), ('pruebas', 1), ('ofrecidas', 1), ('Medidas', 1), ('adoptadas', 1), ('dictan', 1), ('medidas', 1), ('daño', 1), ('10', 1), ('Votación', 1), ('aprobada', 1), ('corresponda', 1), ('11', 1), ('Extracto', 1), ('fundamentos', 1), ('Personas', 1), ('involucradas', 1), ('Mujer', 1), ('A.', 1), ('Víctima', 1), ('50', 1), ('ama', 1), ('divorcio', 1), ('Hombre', 1), ('B.', 1), ('Persona', 1), ('demandada', 1), ('47', 1), ('Hechos', 1), ('marzo', 1), ('2009', 1), ('enteró', 1), ('infectada', 1), ('inmunodeficiencia', 1), ('adquirida', 1), ('enfermedad', 1), ('contagió', 1), ('pese', 1), ('informó', 1), ('respecto', 1), ('solo', 1), ('limitó', 1), ('decirle', 1), ('hospital', 1), ('informaron', 1), ('cónyuge', 1), ('hacerle', 1), ('estudios', 1), ('si', 1), ('contagiado', 1), ('confirmó', 1), ('recibir', 1), ('ayuda', 1), ('médica', 1), ('COESIDA', 1), ('institución', 1), ('sigue', 1), ('asistiendo', 1), ('día', 1), ('presentación', 1)])\n"
          ],
          "name": "stdout"
        }
      ]
    },
    {
      "cell_type": "code",
      "metadata": {
        "id": "g1JbSJANk5St"
      },
      "source": [
        "with open('revision.txt','w') as f:\n",
        "  for k,v in y.items():\n",
        "    f.write(f'{k}: {v} \\n')"
      ],
      "execution_count": null,
      "outputs": []
    },
    {
      "cell_type": "code",
      "metadata": {
        "id": "2ZCIgSFA0XeP",
        "outputId": "b1274294-6701-4a24-926d-8715bb59cecd",
        "colab": {
          "base_uri": "https://localhost:8080/"
        }
      },
      "source": [
        "word_tokenize(\"\")"
      ],
      "execution_count": null,
      "outputs": [
        {
          "output_type": "execute_result",
          "data": {
            "text/plain": [
              "[]"
            ]
          },
          "metadata": {
            "tags": []
          },
          "execution_count": 33
        }
      ]
    },
    {
      "cell_type": "code",
      "metadata": {
        "id": "CL5i-9XKX33a",
        "outputId": "d3789901-c9ca-4f91-8e48-bac7da070a01",
        "colab": {
          "base_uri": "https://localhost:8080/"
        }
      },
      "source": [
        "for file in os.listdir(local_download_path):\n",
        "    if file.endswith(\"docx\"):\n",
        "      print (file[0:3])\n",
        "      filename= ruta+file\n",
        "      result = docx2txt.process(filename)\n",
        "      archivo_salida=ruta_salida+file[0:3]+\".txt\"\n",
        "      f = open(archivo_salida,\"a\")\n",
        "      f.write(result)\n",
        "f.close()\n",
        "      "
      ],
      "execution_count": null,
      "outputs": [
        {
          "output_type": "stream",
          "text": [
            "004\n",
            "004\n",
            "006\n",
            "001\n",
            "007\n",
            "009\n",
            "011\n",
            "003\n",
            "012\n",
            "005\n",
            "006\n",
            "007\n",
            "014\n",
            "015\n",
            "016\n",
            "017\n",
            "012\n",
            "018\n",
            "014\n",
            "020\n",
            "015\n",
            "022\n",
            "019\n",
            "026\n",
            "021\n",
            "027\n",
            "022\n",
            "028\n",
            "023\n",
            "024\n",
            "024\n",
            "030\n",
            "025\n",
            "031\n",
            "026\n",
            "032\n",
            "027\n",
            "028\n",
            "034\n",
            "031\n",
            "036\n",
            "032\n",
            "033\n",
            "038\n",
            "034\n",
            "040\n",
            "035\n",
            "042\n",
            "037\n",
            "043\n",
            "044\n",
            "044\n",
            "040\n",
            "041\n",
            "042\n",
            "043\n",
            "048\n",
            "049\n",
            "050\n",
            "046\n",
            "051\n",
            "052\n",
            "047\n",
            "053\n",
            "049\n",
            "055\n",
            "056\n",
            "056\n",
            "057\n",
            "052\n",
            "053\n",
            "059\n",
            "054\n",
            "058\n",
            "062\n",
            "060\n",
            "065\n",
            "066\n",
            "061\n",
            "067\n",
            "069\n",
            "070\n",
            "070\n",
            "072\n",
            "064\n",
            "073\n",
            "075\n",
            "068\n",
            "077\n",
            "072\n",
            "079\n",
            "074\n",
            "081\n",
            "084\n",
            "085\n",
            "078\n",
            "079\n",
            "087\n",
            "080\n",
            "088\n",
            "089\n",
            "090\n",
            "091\n",
            "086\n",
            "092\n",
            "088\n",
            "089\n",
            "094\n",
            "095\n",
            "090\n",
            "091\n",
            "096\n",
            "097\n",
            "093\n",
            "098\n",
            "099\n",
            "100\n",
            "095\n",
            "101\n",
            "102\n",
            "097\n",
            "103\n",
            "104\n",
            "099\n",
            "100\n",
            "101\n",
            "107\n",
            "108\n",
            "103\n",
            "111\n",
            "106\n",
            "107\n",
            "114\n",
            "108\n",
            "109\n",
            "116\n",
            "110\n",
            "119\n",
            "114\n",
            "121\n",
            "123\n",
            "117\n",
            "118\n",
            "124\n",
            "120\n",
            "126\n",
            "122\n",
            "127\n",
            "128\n",
            "123\n",
            "129\n",
            "125\n",
            "127\n",
            "132\n",
            "128\n",
            "130\n",
            "131\n",
            "138\n",
            "139\n",
            "133\n",
            "140\n",
            "134\n",
            "141\n",
            "135\n",
            "136\n",
            "137\n",
            "143\n",
            "139\n",
            "140\n",
            "142\n"
          ],
          "name": "stdout"
        }
      ]
    },
    {
      "cell_type": "code",
      "metadata": {
        "id": "MioCoGavc0Jd"
      },
      "source": [
        "f = open(\"salida.txt\",\"\")\n",
        "f.write(res);\n",
        "\n",
        "f.close()\n"
      ],
      "execution_count": null,
      "outputs": []
    },
    {
      "cell_type": "code",
      "metadata": {
        "id": "oo6e3-NKRiW-"
      },
      "source": [
        "link_list = re.findall('http.*?\\<',xml_str)[1:]\n",
        "link_list = [x[:-1] for x in link_list]"
      ],
      "execution_count": null,
      "outputs": []
    },
    {
      "cell_type": "code",
      "metadata": {
        "id": "hH-1jbewRiXr"
      },
      "source": [
        "link_list"
      ],
      "execution_count": null,
      "outputs": []
    },
    {
      "cell_type": "code",
      "metadata": {
        "id": "9QDFy02FRiYU"
      },
      "source": [
        "len(link_list)"
      ],
      "execution_count": null,
      "outputs": []
    },
    {
      "cell_type": "markdown",
      "metadata": {
        "id": "-3UXQGzBRiYq"
      },
      "source": [
        "Great! We've now collected all the URLS from this word document! Check out <a href= \"https://github.com/nmolivo/tesu_scraper/blob/master/01_scraper.ipynb\">the Notebook</a> updloaded to <a href = \"https://github.com/nmolivo/tesu_scraper\">the TESU Scraper Repo</a>, where we use the technique covered in this repository to collect a link list for each word document contained in a folder stored on an AWS S3 bucket. "
      ]
    },
    {
      "cell_type": "markdown",
      "metadata": {
        "id": "6c8R3u-vRiYu"
      },
      "source": [
        "Created by Natalie Olivo\n",
        "<a href = \"https://www.linkedin.com/in/natalie-olivo-82548951/\">LinkedIn</a> | <a href = \"https://github.com/nmolivo\">GitHub</a> | <a href = \"https://medium.com/@NatalieOlivo\">Blog</a>"
      ]
    }
  ]
}